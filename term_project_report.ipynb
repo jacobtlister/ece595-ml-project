{
 "cells": [
  {
   "cell_type": "markdown",
   "metadata": {},
   "source": [
    "# ECE 595: Machine Learning Term Project: ANFIS for Human Speech DSP\n",
    "## Oliver Bartz and Jacob Lister\n",
    "\n",
    "### About ANFIS\n",
    "ANFIS stands for Adaptive-Network-Based Fuzzy Inference System. It is a low-complexity machine learning algorithm "
   ]
  }
 ],
 "metadata": {
  "language_info": {
   "name": "python"
  }
 },
 "nbformat": 4,
 "nbformat_minor": 2
}
